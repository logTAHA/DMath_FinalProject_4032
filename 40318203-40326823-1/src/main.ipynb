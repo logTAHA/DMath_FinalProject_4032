{
 "cells": [
  {
   "metadata": {},
   "cell_type": "code",
   "outputs": [
    {
     "ename": "ModuleNotFoundError",
     "evalue": "No module named 'matplotlib'",
     "output_type": "error",
     "traceback": [
      "\u001B[31m---------------------------------------------------------------------------\u001B[39m",
      "\u001B[31mModuleNotFoundError\u001B[39m                       Traceback (most recent call last)",
      "\u001B[36mCell\u001B[39m\u001B[36m \u001B[39m\u001B[32mIn[1]\u001B[39m\u001B[32m, line 1\u001B[39m\n\u001B[32m----> \u001B[39m\u001B[32m1\u001B[39m \u001B[38;5;28;01mfrom\u001B[39;00m\u001B[38;5;250m \u001B[39m\u001B[34;01mgraph_util\u001B[39;00m\u001B[38;5;250m \u001B[39m\u001B[38;5;28;01mimport\u001B[39;00m *\n",
      "\u001B[36mFile \u001B[39m\u001B[32m~\\PycharmProjects\\DMath_FinalProject_4032\\40318203-40326823-1\\src\\graph_util.py:4\u001B[39m\n\u001B[32m      2\u001B[39m \u001B[38;5;28;01mimport\u001B[39;00m\u001B[38;5;250m \u001B[39m\u001B[34;01mnetworkx\u001B[39;00m\u001B[38;5;250m \u001B[39m\u001B[38;5;28;01mas\u001B[39;00m\u001B[38;5;250m \u001B[39m\u001B[34;01mnx\u001B[39;00m\n\u001B[32m      3\u001B[39m \u001B[38;5;28;01mimport\u001B[39;00m\u001B[38;5;250m \u001B[39m\u001B[34;01mcsv\u001B[39;00m\n\u001B[32m----> \u001B[39m\u001B[32m4\u001B[39m \u001B[38;5;28;01mimport\u001B[39;00m\u001B[38;5;250m \u001B[39m\u001B[34;01mmatplotlib\u001B[39;00m\u001B[34;01m.\u001B[39;00m\u001B[34;01mpyplot\u001B[39;00m\u001B[38;5;250m \u001B[39m\u001B[38;5;28;01mas\u001B[39;00m\u001B[38;5;250m \u001B[39m\u001B[34;01mplt\u001B[39;00m\n\u001B[32m      6\u001B[39m \u001B[38;5;28;01mdef\u001B[39;00m\u001B[38;5;250m \u001B[39m\u001B[34mbuild_graph\u001B[39m(path=\u001B[33m\"\u001B[39m\u001B[33m../data/following.csv\u001B[39m\u001B[33m\"\u001B[39m):\n\u001B[32m      7\u001B[39m     \u001B[38;5;28;01mtry\u001B[39;00m:\n",
      "\u001B[31mModuleNotFoundError\u001B[39m: No module named 'matplotlib'"
     ]
    }
   ],
   "execution_count": 1,
   "source": "from graph_util import *",
   "id": "initial_id"
  },
  {
   "cell_type": "markdown",
   "id": "88ba3a854c6660cd",
   "metadata": {},
   "source": []
  },
  {
   "cell_type": "code",
   "execution_count": 2,
   "id": "de47f6a5bfe6c729",
   "metadata": {
    "ExecuteTime": {
     "end_time": "2025-07-31T17:22:09.840530Z",
     "start_time": "2025-07-31T17:22:09.832866Z"
    }
   },
   "outputs": [],
   "source": [
    "def main():\n",
    "    while True:\n",
    "        file_path = input(\"Please enter the path to the graph CSV file (or press Enter to use the default): \")\n",
    "        try:\n",
    "            G = build_graph(file_path.strip()) if file_path.strip() else build_graph()\n",
    "            break\n",
    "        except RuntimeError as e:\n",
    "            print(e)\n",
    "            print(\"Graph loading failed. Try again.\\n\")\n",
    "\n",
    "\n",
    "    while True:\n",
    "        print_menu()\n",
    "        choice = input(\"Please select an option (1-8): \")\n",
    "\n",
    "        if choice == '1':\n",
    "            while True:\n",
    "                node = input(\"Enter node ID (or press Enter for all nodes): \").strip() or None\n",
    "                try:\n",
    "                    degrees = degree_calculator(G, node) if node else degree_calculator(G)\n",
    "                    print(\"\\nDegree(s):\")\n",
    "                    for n, deg in degrees.items():\n",
    "                        print(f\"  - {n}: {deg}\")\n",
    "                    break\n",
    "                except Exception as e:\n",
    "                    print(e)\n",
    "                    print(\"Please try again.\\n\")\n",
    "\n",
    "        elif choice == '2':\n",
    "            find_connected_components()\n",
    "        elif choice == '3':\n",
    "            bfs()\n",
    "        elif choice == '4':\n",
    "            dfs()\n",
    "        elif choice == '5':\n",
    "            find_shortest_path()\n",
    "        elif choice == '6':\n",
    "            while True:\n",
    "                try:\n",
    "                    n = input(\"How many top nodes to display? (default 5): \").strip()\n",
    "                    n = int(n) if n else 5\n",
    "                    results = analyze_centrality(G, n)\n",
    "                    for metric, nodes in results.items():\n",
    "                        print(f\"\\nTop {n} {metric}:\")\n",
    "                        for node, value in nodes.items():\n",
    "                            print(f\"{node}: {value:.4f}\")\n",
    "                    break\n",
    "                except Exception as e:\n",
    "                    print(e)\n",
    "        elif choice == '7':\n",
    "            #\n",
    "        elif choice == '8':\n",
    "            print(\"Exiting the program...\")\n",
    "            break\n",
    "        else:\n",
    "            print(\"Invalid input. Please enter a number between 1 and 8.\")\n",
    "\n",
    "        input(\"\\nPress any key to continue...\")\n",
    "\n",
    "if __name__ == \"__main__\":\n",
    "    main()"
   ]
  },
  {
   "cell_type": "code",
   "execution_count": null,
   "id": "e7777182-3578-4dce-a90e-293ce687b847",
   "metadata": {},
   "outputs": [],
   "source": []
  },
  {
   "cell_type": "code",
   "execution_count": null,
   "id": "6689487f-cc50-4047-9a5b-50a4fa0a693b",
   "metadata": {},
   "outputs": [],
   "source": []
  }
 ],
 "metadata": {
  "kernelspec": {
   "display_name": "Python 3 (ipykernel)",
   "language": "python",
   "name": "python3"
  },
  "language_info": {
   "codemirror_mode": {
    "name": "ipython",
    "version": 3
   },
   "file_extension": ".py",
   "mimetype": "text/x-python",
   "name": "python",
   "nbconvert_exporter": "python",
   "pygments_lexer": "ipython3",
   "version": "3.13.4"
  }
 },
 "nbformat": 4,
 "nbformat_minor": 5
}
