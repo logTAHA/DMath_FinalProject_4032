#%% md
Calculate In-Degree and Out-Degree of Nodes for DiGraphs and Degree of Nodes in Graphs
#%%
import networkx as nx

def degree_calculator(G):
    if G is None or G.number_of_nodes() == 0:
        print("Please load a graph first.")
        return

    if nx.is_directed(G):
        print("\n--- 2. Calculate In-Degree And Out-Degree ---\n")
        choice = input("Do you want the degree of a specific node or all nodes (specific/all)? ").lower()
        if choice == "all":
            print("\n--- In-degree and Out-degree of all nodes ---")
            for node in G.nodes():
                print(f"Node {node}: In_Degree = {G.in_degree(node)}, Out_Degree = {G.out_degree(node)}")
        elif choice == "specific":
            node = input("Enter the desired node name: ")
            try:
                node = int(node)
            except ValueError:
                pass
            if G.has_node(node):
                print(f"Node {node}: In_Degree = {G.in_degree(node)}, Out_Degree = {G.out_degree(node)}")
            else:
                print(f"Node {node} doesn't exist in the graph.")
        else:
            print("Invalid choice.")
            return

    else:
        print("\n--- 2. Calculate Degree ---\n")
        choice = input("Do you want the degree of a specific node or all nodes (specific/all)? ").lower()
        if choice == "all":
            print("\n--- Degree of all nodes ---")
            for node in G.nodes():
                print(f"Node {node}: Degree = {G.degree(node)}")
        elif choice == "specific":
            node = input("Enter the desired node name: ")
            try:
                node = int(node)
            except ValueError:
                pass
            if G.has_node(node):
                print(f"Node {node}: Degree = {G.degree(node)}")
            else:
                print(f"Node {node} doesn't exist in the graph.")
        else:
            print("Invalid choice.")
            return

        print()
#%% md
Find Strongly Connected Components for DiGraphs and Connected Components for Graphs
#%%
def find_connected_components(G):
    if G is None or G.number_of_nodes() == 0:
        print("Please load a graph first.")
        return

    if nx.is_directed(G):
        print("\n--- 2. Find Strongly connected components ---")
        strong_components = list(nx.strongly_connected_components(G))
        for i, component in enumerate(strong_components):
            print(f"Component {i+1}: {component}")

    else:
        print("\n--- 2. Find Connected Components ---")
        connected_components = list(nx.connected_components(G))
        for i, component in enumerate(connected_components):
            print(f"Component {i+1}: {component}")

    print()
