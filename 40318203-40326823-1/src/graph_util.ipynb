{
 "cells": [
  {
   "metadata": {},
   "cell_type": "markdown",
   "source": [
    "# 📦 Import Libraries\n",
    "Import required Python packages and modules."
   ],
   "id": "85ab6b21eabc172f"
  },
  {
   "metadata": {
    "ExecuteTime": {
     "end_time": "2025-07-24T18:48:56.153257Z",
     "start_time": "2025-07-24T18:48:55.973959Z"
    }
   },
   "cell_type": "code",
   "source": [
    "from typing import *\n",
    "import networkx as nx\n",
    "import csv"
   ],
   "id": "6197827b0808613c",
   "outputs": [],
   "execution_count": 5
  },
  {
   "metadata": {},
   "cell_type": "markdown",
   "source": [
    "# 🏗️ Build Graph\n",
    "\n",
    "Read CSV files and **build graphs**.\n",
    "use default pass `data/following.csv` to create a graph\n"
   ],
   "id": "aac79bdd2b14b139"
  },
  {
   "metadata": {
    "ExecuteTime": {
     "end_time": "2025-07-24T19:43:44.290356Z",
     "start_time": "2025-07-24T19:43:44.275247Z"
    }
   },
   "cell_type": "code",
   "source": [
    "def build_graph(path=\"../data/following.csv\"):\n",
    "    try:\n",
    "        with open(path, newline='', encoding='utf-8') as f:\n",
    "            reader = csv.reader(f)\n",
    "            # skip first line (source_id,relation,target_id)\n",
    "            next(reader)\n",
    "            G = nx.MultiDiGraph()\n",
    "            for src, rel, tgt in reader:\n",
    "                add_edge(G, src, tgt, rel)\n",
    "    except Exception as e:\n",
    "        raise RuntimeError(f\"Unable to open file in this path: '{path}'\") from e\n",
    "    # return graph\n",
    "    return G\n",
    "\n",
    "default_attrs = {\"type\": \"user\", \"color\": \"white\", \"size\": \"3.14\"}\n",
    "def add_edge(G, src, tgt, rel):\n",
    "    if src not in G:\n",
    "        G.add_node(src, **default_attrs)\n",
    "    if tgt not in G:\n",
    "        G.add_node(tgt, **default_attrs)\n",
    "    G.add_edge(src, tgt, relation=rel)"
   ],
   "id": "14c43d760dc33094",
   "outputs": [],
   "execution_count": 44
  },
  {
   "metadata": {},
   "cell_type": "markdown",
   "source": [
    "# 🔢 Node Degree Calculator\n",
    "Compute **in-degree** and **out-degree** of nodes in directed graphs,\n",
    "or total degree in undirected graphs."
   ],
   "id": "5df94cd59f4ef56"
  },
  {
   "metadata": {
    "ExecuteTime": {
     "end_time": "2025-07-24T18:48:56.213920Z",
     "start_time": "2025-07-24T18:48:56.195633Z"
    }
   },
   "cell_type": "code",
   "source": [
    "def degree_calculator(\n",
    "        G: Union[nx.Graph, nx.DiGraph, nx.MultiGraph, nx.MultiDiGraph],\n",
    "        node: Optional[Any] = None\n",
    ") -> Dict[Any, Union[int, Dict[str, int]]]:\n",
    "    if G is None or G.number_of_nodes() == 0:\n",
    "        raise ValueError(\"The input graph is empty or not loaded.\")\n",
    "\n",
    "    if node is not None and not G.has_node(node):\n",
    "        raise ValueError(f\"The node '{node}' does not exist in the graph.\")\n",
    "\n",
    "    results: Dict[Any, Union[int, Dict[str, int]]] = {}\n",
    "    nodes = [node] if node is not None else G.nodes()\n",
    "\n",
    "    if nx.is_directed(G):\n",
    "        for n in nodes:\n",
    "            results[n] = {\"in_degree\": G.in_degree(n),\"out_degree\": G.out_degree(n)}\n",
    "    else:\n",
    "        for n in nodes:\n",
    "            results[n] = G.degree(n)\n",
    "\n",
    "    return results"
   ],
   "id": "27c31f640d09af46",
   "outputs": [],
   "execution_count": 7
  },
  {
   "metadata": {},
   "cell_type": "markdown",
   "source": [
    "# 🔗 Connected Components Finder\n",
    "Detect **strongly connected components** in directed graphs\n",
    "and **connected components** in undirected graphs ."
   ],
   "id": "785b917f9af691ac"
  },
  {
   "metadata": {
    "ExecuteTime": {
     "end_time": "2025-07-24T18:48:56.245761Z",
     "start_time": "2025-07-24T18:48:56.229302Z"
    }
   },
   "cell_type": "code",
   "source": [
    "def find_connected_components(\n",
    "        G: Union[nx.Graph, nx.DiGraph, nx.MultiGraph, nx.MultiDiGraph],\n",
    ") -> List[Set[Union[int, str]]]:\n",
    "    if G is None or G.number_of_nodes() == 0:\n",
    "        raise ValueError(\"The input graph is empty or not loaded.\")\n",
    "\n",
    "    if nx.is_directed(G):\n",
    "        components = list(nx.strongly_connected_components(G))\n",
    "    else:\n",
    "        components = list(nx.connected_components(G))\n",
    "\n",
    "    return components"
   ],
   "id": "9a105be7e8d8a437",
   "outputs": [],
   "execution_count": 8
  },
  {
   "metadata": {},
   "cell_type": "markdown",
   "source": [
    "# 🛣️ Find the Shortest Path\n",
    "Use **Dijkstra's algorithm** to compute the **shortest path** and **distance**\n",
    "between two nodes in agraph."
   ],
   "id": "e3e51f35520671c6"
  },
  {
   "metadata": {
    "ExecuteTime": {
     "end_time": "2025-07-24T18:48:56.275931Z",
     "start_time": "2025-07-24T18:48:56.260852Z"
    }
   },
   "cell_type": "code",
   "source": [
    "def find_shortest_path(\n",
    "        G: Union[nx.Graph, nx.DiGraph, nx.MultiGraph, nx.MultiDiGraph],\n",
    "        source: Any,\n",
    "        target: Any,\n",
    "        weight: Optional[str] = None\n",
    ") -> Optional[Tuple[List[Any], float]]:\n",
    "    if G is None or G.number_of_nodes() == 0:\n",
    "        raise ValueError(\"The input graph is empty or not loaded.\")\n",
    "\n",
    "    if not G.has_node(source) or not G.has_node(target):\n",
    "        raise ValueError(f\"Source node '{source}' or target node '{target}' not found in the graph.\n",
    "\n",
    "    try:\n",
    "        path = nx.dijkstra_path(G, source, target, weight=weight)\n",
    "        distance = nx.dijkstra_path_length(G, source, target, weight=weight)\n",
    "        return path, distance\n",
    "    except nx.NodeNotFound:\n",
    "        raise ValueError(f\"Source node '{source}' or target node '{target}' not found in the graph.\")\n",
    "    except nx.NetworkXNoPath:\n",
    "        print(f\"No path exists between {source} and {target}.\")\n",
    "        return None"
   ],
   "id": "71f293eb3a7a98fb",
   "outputs": [],
   "execution_count": 9
  },
  {
   "metadata": {},
   "cell_type": "markdown",
   "source": [
    "# 🌍 Centrality Analysis\n",
    "Analyze node importance in the network using:\n",
    "- Degree Centrality\n",
    "- In/Out Degree (for directed graphs)\n",
    "- Betweenness\n",
    "- Closeness\n",
    "- Eigenvector Centrality"
   ],
   "id": "d8d4d504ef3955de"
  },
  {
   "metadata": {
    "ExecuteTime": {
     "end_time": "2025-07-24T18:48:56.306343Z",
     "start_time": "2025-07-24T18:48:56.291225Z"
    }
   },
   "cell_type": "code",
   "source": [
    "def analyze_centrality(G):\n",
    "    if G is None or G.number_of_nodes() == 0:\n",
    "        print(\"Please load a graph first.\")\n",
    "        return\n",
    "\n",
    "    print(\"\\n--- Centrality Analysis ---\")\n",
    "\n",
    "    print(\"\\n1. Degree Centrality (higher is more important):\")\n",
    "    degree_centrality = nx.degree_centrality(G)\n",
    "    for node, centrality in sorted(degree_centrality.items(), key=lambda item: item[1], reverse=True)[:5]:\n",
    "        print(f\"- {node}: {centrality:.3f}\")\n",
    "    if nx.is_directed(G):\n",
    "        print(\"\\n   → In-Degree Centrality\")\n",
    "        in_degree_centrality = nx.in_degree_centrality(G)\n",
    "        for node, centrality in sorted(in_degree_centrality.items(), key=lambda item: item[1], reverse=True)[:5]:\n",
    "            print(f\"- {node}: {centrality:.3f}\")\n",
    "\n",
    "        print(\"\\n   → Out-Degree Centrality\")\n",
    "        out_degree_centrality = nx.out_degree_centrality(G)\n",
    "        for node, centrality in sorted(out_degree_centrality.items(), key=lambda item: item[1], reverse=True)[:5]:\n",
    "            print(f\"- {node}: {centrality:.3f}\")\n",
    "\n",
    "    print(\"\\n2. Betweenness Centrality (nodes on shortest paths):\")\n",
    "    betweenness_centrality = nx.betweenness_centrality(G)\n",
    "    for node, centrality in sorted(betweenness_centrality.items(), key=lambda item: item[1], reverse=True)[:5]:\n",
    "        print(f\"- {node}: {centrality:.3f}\")\n",
    "\n",
    "    print(\"\\n3. Closeness Centrality (average distance to all others):\")\n",
    "    closeness_centrality = nx.closeness_centrality(G)\n",
    "    for node, centrality in sorted(closeness_centrality.items(), key=lambda item: item[1], reverse=True)[:5]:\n",
    "        print(f\"- {node}: {centrality:.3f}\")\n",
    "\n",
    "    print(\"\\n4. Eigenvector Centrality (nodes on shortest paths):\")"
   ],
   "id": "28fc03dd3e00ade0",
   "outputs": [],
   "execution_count": 10
  }
 ],
 "metadata": {
  "kernelspec": {
   "display_name": "Python 3",
   "language": "python",
   "name": "python3"
  },
  "language_info": {
   "codemirror_mode": {
    "name": "ipython",
    "version": 2
   },
   "file_extension": ".py",
   "mimetype": "text/x-python",
   "name": "python",
   "nbconvert_exporter": "python",
   "pygments_lexer": "ipython2",
   "version": "2.7.6"
  }
 },
 "nbformat": 4,
 "nbformat_minor": 5
}
