{
 "cells": [
  {
   "metadata": {},
   "cell_type": "markdown",
   "source": "Calculate In-Degree and Out-Degree of Nodes for DiGraphs and Degree of Nodes in Graphs",
   "id": "5df94cd59f4ef56"
  },
  {
   "metadata": {},
   "cell_type": "code",
   "outputs": [],
   "execution_count": null,
   "source": [
    "import networkx as nx\n",
    "\n",
    "def degree_calculator(G):\n",
    "    if G is None or G.number_of_nodes() == 0:\n",
    "        print(\"Please load a graph first.\")\n",
    "        return\n",
    "\n",
    "    if nx.is_directed(G):\n",
    "        print(\"\\n--- 2. Calculate In-Degree And Out-Degree ---\\n\")\n",
    "        choice = input(\"Do you want the degree of a specific node or all nodes (specific/all)? \").lower()\n",
    "        if choice == \"all\":\n",
    "            print(\"\\n--- In-degree and Out-degree of all nodes ---\")\n",
    "            for node in G.nodes():\n",
    "                print(f\"Node {node}: In_Degree = {G.in_degree(node)}, Out_Degree = {G.out_degree(node)}\")\n",
    "        elif choice == \"specific\":\n",
    "            node = input(\"Enter the desired node name: \")\n",
    "            try:\n",
    "                node = int(node)\n",
    "            except ValueError:\n",
    "                pass\n",
    "            if G.has_node(node):\n",
    "                print(f\"Node {node}: In_Degree = {G.in_degree(node)}, Out_Degree = {G.out_degree(node)}\")\n",
    "            else:\n",
    "                print(f\"Node {node} doesn't exist in the graph.\")\n",
    "        else:\n",
    "            print(\"Invalid choice.\")\n",
    "            return\n",
    "\n",
    "    else:\n",
    "        print(\"\\n--- 2. Calculate Degree ---\\n\")\n",
    "        choice = input(\"Do you want the degree of a specific node or all nodes (specific/all)? \").lower()\n",
    "        if choice == \"all\":\n",
    "            print(\"\\n--- Degree of all nodes ---\")\n",
    "            for node in G.nodes():\n",
    "                print(f\"Node {node}: Degree = {G.degree(node)}\")\n",
    "        elif choice == \"specific\":\n",
    "            node = input(\"Enter the desired node name: \")\n",
    "            try:\n",
    "                node = int(node)\n",
    "            except ValueError:\n",
    "                pass\n",
    "            if G.has_node(node):\n",
    "                print(f\"Node {node}: Degree = {G.degree(node)}\")\n",
    "            else:\n",
    "                print(f\"Node {node} doesn't exist in the graph.\")\n",
    "        else:\n",
    "            print(\"Invalid choice.\")\n",
    "            return\n",
    "\n",
    "        print()"
   ],
   "id": "27c31f640d09af46"
  },
  {
   "metadata": {},
   "cell_type": "markdown",
   "source": "Find Strongly Connected Components for DiGraphs and Connected Components for Graphs",
   "id": "785b917f9af691ac"
  },
  {
   "metadata": {},
   "cell_type": "code",
   "outputs": [],
   "execution_count": null,
   "source": [
    "def find_connected_components(G):\n",
    "    if G is None or G.number_of_nodes() == 0:\n",
    "        print(\"Please load a graph first.\")\n",
    "        return\n",
    "\n",
    "    if nx.is_directed(G):\n",
    "        print(\"\\n--- 2. Find Strongly connected components ---\")\n",
    "        strong_components = list(nx.strongly_connected_components(G))\n",
    "        for i, component in enumerate(strong_components):\n",
    "            print(f\"Component {i+1}: {component}\")\n",
    "\n",
    "    else:\n",
    "        print(\"\\n--- 2. Find Connected Components ---\")\n",
    "        connected_components = list(nx.connected_components(G))\n",
    "        for i, component in enumerate(connected_components):\n",
    "            print(f\"Component {i+1}: {component}\")\n",
    "\n",
    "    print()"
   ],
   "id": "9a105be7e8d8a437"
  }
 ],
 "metadata": {
  "kernelspec": {
   "display_name": "Python 3",
   "language": "python",
   "name": "python3"
  },
  "language_info": {
   "codemirror_mode": {
    "name": "ipython",
    "version": 2
   },
   "file_extension": ".py",
   "mimetype": "text/x-python",
   "name": "python",
   "nbconvert_exporter": "python",
   "pygments_lexer": "ipython2",
   "version": "2.7.6"
  }
 },
 "nbformat": 4,
 "nbformat_minor": 5
}
