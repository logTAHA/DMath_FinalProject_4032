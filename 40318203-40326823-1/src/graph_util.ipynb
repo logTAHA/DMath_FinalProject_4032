{
 "cells": [
  {
   "metadata": {},
   "cell_type": "markdown",
   "source": [
    "# 📦 Import Libraries\n",
    "Import required Python packages."
   ],
   "id": "85ab6b21eabc172f"
  },
  {
   "metadata": {
    "ExecuteTime": {
     "end_time": "2025-07-29T16:45:38.377859Z",
     "start_time": "2025-07-29T16:45:37.283613Z"
    }
   },
   "cell_type": "code",
   "source": [
    "import networkx as nx\n",
    "import csv\n",
    "import matplotlib.pyplot as plt"
   ],
   "id": "6197827b0808613c",
   "outputs": [],
   "execution_count": 3
  },
  {
   "metadata": {},
   "cell_type": "markdown",
   "source": [
    "# 🏗️ Build Graph\n",
    "\n",
    "Read CSV files and **build graphs**.\n",
    "use default pass `data/following.csv` to create a graph\n"
   ],
   "id": "aac79bdd2b14b139"
  },
  {
   "metadata": {
    "ExecuteTime": {
     "end_time": "2025-07-29T11:48:47.106417Z",
     "start_time": "2025-07-29T11:48:47.077102Z"
    }
   },
   "cell_type": "code",
   "source": [
    "def build_graph(path=\"../data/following.csv\"):\n",
    "    try:\n",
    "        with open(path, newline='', encoding='utf-8') as f:\n",
    "            reader = csv.reader(f)\n",
    "            # skip first line (source_id,relation,target_id)\n",
    "            next(reader)\n",
    "            G = nx.MultiDiGraph()\n",
    "\n",
    "            for src, rel, tgt in reader:\n",
    "                add_edge(G, src, tgt, rel)\n",
    "    except Exception as e:\n",
    "        raise RuntimeError(f\"Unable to open file in this path: '{path}'\") from e\n",
    "    # return graph\n",
    "    return G\n",
    "\n",
    "default_attrs = {\"type\": \"user\", \"color\": \"white\", \"size\": \"3.14\"}\n",
    "def add_edge(G, src, tgt, rel):\n",
    "    if src not in G:\n",
    "        G.add_node(src, **default_attrs)\n",
    "    if tgt not in G:\n",
    "        G.add_node(tgt, **default_attrs)\n",
    "    G.add_edge(src, tgt, relation=rel)"
   ],
   "id": "14c43d760dc33094",
   "outputs": [],
   "execution_count": 19
  },
  {
   "metadata": {},
   "cell_type": "markdown",
   "source": [
    "# 🔍 Graph Type Analyzer\n",
    "Detect if the graph is **directed** or **undirected**, and if it is **weighted** or **unweighted**."
   ],
   "id": "6c30b219c0908b45"
  },
  {
   "metadata": {
    "ExecuteTime": {
     "end_time": "2025-07-29T09:53:21.504385Z",
     "start_time": "2025-07-29T09:53:21.489346Z"
    }
   },
   "cell_type": "code",
   "source": [
    "def direct_status(G):\n",
    "    return G.is_directed()\n",
    "def weight_status(G):\n",
    "    return nx.is_weighted(G)"
   ],
   "id": "d2859c0e5483b957",
   "outputs": [],
   "execution_count": 1
  },
  {
   "metadata": {},
   "cell_type": "markdown",
   "source": [
    "# 🔢 Node Degree Calculator\n",
    "Compute **in-degree** and **out-degree** of nodes in directed graphs,\n",
    "or total degree in undirected graphs."
   ],
   "id": "5df94cd59f4ef56"
  },
  {
   "metadata": {
    "ExecuteTime": {
     "end_time": "2025-07-24T18:48:56.213920Z",
     "start_time": "2025-07-24T18:48:56.195633Z"
    }
   },
   "cell_type": "code",
   "source": [
    "def degree_calculator(G):\n",
    "    if G is None or G.number_of_nodes() == 0:\n",
    "        print(\"Please load a graph first.\")\n",
    "        return\n",
    "\n",
    "    if nx.is_directed(G):\n",
    "        print(\"\\n--- Calculate In-Degree And Out-Degree ---\\n\")\n",
    "        choice = input(\"Do you want the degree of a specific node or all nodes (specific/all)? \").lower()\n",
    "        if choice == \"all\":\n",
    "            print(\"\\n--- In-degree and Out-degree of all nodes ---\")\n",
    "            for node in G.nodes():\n",
    "                print(f\"Node {node}: In_Degree = {G.in_degree(node)}, Out_Degree = {G.out_degree(node)}\")\n",
    "        elif choice == \"specific\":\n",
    "            node = input(\"Enter the desired node name: \")\n",
    "            try:\n",
    "                node = int(node)\n",
    "            except ValueError:\n",
    "                pass\n",
    "            if G.has_node(node):\n",
    "                print(f\"Node {node}: In_Degree = {G.in_degree(node)}, Out_Degree = {G.out_degree(node)}\")\n",
    "            else:\n",
    "                print(f\"Node {node} doesn't exist in the graph.\")\n",
    "        else:\n",
    "            print(\"Invalid choice.\")\n",
    "            return\n",
    "\n",
    "    else:\n",
    "        print(\"\\n--- Calculate Degree ---\\n\")\n",
    "        choice = input(\"Do you want the degree of a specific node or all nodes (specific/all)? \").lower()\n",
    "        if choice == \"all\":\n",
    "            print(\"\\n--- Degree of all nodes ---\")\n",
    "            for node in G.nodes():\n",
    "                print(f\"Node {node}: Degree = {G.degree(node)}\")\n",
    "        elif choice == \"specific\":\n",
    "            node = input(\"Enter the desired node name: \")\n",
    "            try:\n",
    "                node = int(node)\n",
    "            except ValueError:\n",
    "                pass\n",
    "            if G.has_node(node):\n",
    "                print(f\"Node {node}: Degree = {G.degree(node)}\")\n",
    "            else:\n",
    "                print(f\"Node {node} doesn't exist in the graph.\")\n",
    "        else:\n",
    "            print(\"Invalid choice.\")\n",
    "            return"
   ],
   "id": "27c31f640d09af46",
   "outputs": [],
   "execution_count": 7
  },
  {
   "metadata": {},
   "cell_type": "markdown",
   "source": [
    "# 🔗 Connected Components Finder\n",
    "Detect **strongly connected components** in directed graphs\n",
    "and **connected components** in undirected graphs ."
   ],
   "id": "785b917f9af691ac"
  },
  {
   "metadata": {
    "ExecuteTime": {
     "end_time": "2025-07-24T18:48:56.245761Z",
     "start_time": "2025-07-24T18:48:56.229302Z"
    }
   },
   "cell_type": "code",
   "source": [
    "def find_connected_components(G):\n",
    "    if G is None or G.number_of_nodes() == 0:\n",
    "        print(\"Please load a graph first.\")\n",
    "        return\n",
    "\n",
    "    if nx.is_directed(G):\n",
    "        print(\"\\n--- Find Strongly Connected Components ---\")\n",
    "        strong_components = list(nx.strongly_connected_components(G))\n",
    "        for i, component in enumerate(strong_components):\n",
    "            print(f\"Component {i+1}: {component}\")\n",
    "\n",
    "    else:\n",
    "        print(\"\\n--- Find Connected Components ---\")\n",
    "        connected_components = list(nx.connected_components(G))\n",
    "        for i, component in enumerate(connected_components):\n",
    "            print(f\"Component {i+1}: {component}\")"
   ],
   "id": "9a105be7e8d8a437",
   "outputs": [],
   "execution_count": 8
  },
  {
   "metadata": {},
   "cell_type": "markdown",
   "source": [
    "# 🧩 DFS and BFS Algorithm\n",
    "---\n",
    "Use **Depth-First Search (DFS)** to explore a graph deeply before backtracking,\n",
    "and **Breadth-First Search (BFS)** to traverse it level by level.\n"
   ],
   "id": "a84fc17f0d21c500"
  },
  {
   "metadata": {
    "ExecuteTime": {
     "end_time": "2025-07-29T16:53:02.717200Z",
     "start_time": "2025-07-29T16:53:02.691141Z"
    }
   },
   "cell_type": "code",
   "source": [
    "def dfs(G, start_node, direction='out'):\n",
    "    if direction != 'in' and direction != 'out' and direction != 'both':\n",
    "        raise ValueError(f\"Direction '{direction}' is not supported. Choose from 'in', 'out', or 'both'\")\n",
    "    stack = [start_node]\n",
    "    visited = set()\n",
    "    path = []\n",
    "    while stack:\n",
    "        node = stack.pop()\n",
    "        if node in visited:\n",
    "            continue\n",
    "        visited.add(node)\n",
    "        path.append(node)\n",
    "        # graph is multy directed graph\n",
    "        neighbors = list()\n",
    "        if direction == 'out':\n",
    "            neighbors = list(G.successors(node))\n",
    "        elif direction == 'in':\n",
    "            neighbors = list(G.predecessors(node))\n",
    "        elif direction == 'both':\n",
    "            out_neighbors = set(G.successors(node))\n",
    "            in_neighbors = set(G.predecessors(node))\n",
    "            neighbors = list(out_neighbors | in_neighbors)\n",
    "\n",
    "        stack.extend(reversed(neighbors))\n",
    "    return path\n",
    "\n",
    "def bfs(G, start_node, direction='out'):\n",
    "    if direction != 'in' and direction != 'out' and direction != 'both':\n",
    "        raise ValueError(f\"Direction '{direction}' is not supported. Choose from 'in', 'out', or 'both'\")\n",
    "    queue = [start_node]\n",
    "    visited = set()\n",
    "    path = []\n",
    "\n",
    "    while queue:\n",
    "        node = queue.pop()\n",
    "        if node in visited:\n",
    "            continue\n",
    "        visited.add(node)\n",
    "        path.append(node)\n",
    "        neighbors = list()\n",
    "        if direction == 'out':\n",
    "            neighbors = list(G.successors(node))\n",
    "        elif direction == 'in':\n",
    "            neighbors = list(G.predecessors(node))\n",
    "        elif direction == 'both':\n",
    "            out_neighbors = set(G.successors(node))\n",
    "            in_neighbors = set(G.predecessors(node))\n",
    "            neighbors = list(out_neighbors | in_neighbors)\n",
    "        queue = neighbors + queue\n",
    "    return path"
   ],
   "id": "4895ca284a3982d2",
   "outputs": [],
   "execution_count": 14
  },
  {
   "metadata": {},
   "cell_type": "markdown",
   "source": [
    "# 🛣️ Find the Shortest Path\n",
    "Use **Dijkstra's algorithm** to compute the **shortest path** and **distance**\n",
    "between two nodes in agraph."
   ],
   "id": "e3e51f35520671c6"
  },
  {
   "metadata": {
    "ExecuteTime": {
     "end_time": "2025-07-24T18:48:56.275931Z",
     "start_time": "2025-07-24T18:48:56.260852Z"
    }
   },
   "cell_type": "code",
   "source": [
    "def find_shortest_path(G, source, target):\n",
    "    if G is None or G.number_of_nodes() == 0:\n",
    "        print(\"Please load a graph first.\")\n",
    "        return\n",
    "\n",
    "    print(\"\\n--- Find shortest path ---\")\n",
    "    try:\n",
    "        path = nx.dijkstra_path(G, source, target, weight='weight')\n",
    "        distance = nx.dijkstra_path_length(G, source, target)\n",
    "        print(f\"\\nThe shortest path between {source} and {target} is {path}\")\n",
    "        print(f\"Path length: {distance}\")\n",
    "    except nx.NetworkXNoPath:\n",
    "        print(f\"No path exists between {source} and {target}.\")\n"
   ],
   "id": "71f293eb3a7a98fb",
   "outputs": [],
   "execution_count": 9
  },
  {
   "metadata": {},
   "cell_type": "markdown",
   "source": [
    "# 🌍 Centrality Analysis\n",
    "Analyze node importance in the network using:\n",
    "- Degree Centrality\n",
    "- In/Out Degree (for directed graphs)\n",
    "- Betweenness\n",
    "- Closeness\n",
    "- Eigenvector Centrality"
   ],
   "id": "d8d4d504ef3955de"
  },
  {
   "metadata": {
    "ExecuteTime": {
     "end_time": "2025-07-24T18:48:56.306343Z",
     "start_time": "2025-07-24T18:48:56.291225Z"
    }
   },
   "cell_type": "code",
   "source": [
    "def analyze_centrality(G):\n",
    "    if G is None or G.number_of_nodes() == 0:\n",
    "        print(\"Please load a graph first.\")\n",
    "        return\n",
    "\n",
    "    print(\"\\n--- Centrality Analysis ---\")\n",
    "\n",
    "    print(\"\\n1. Degree Centrality (higher is more important):\")\n",
    "    degree_centrality = nx.degree_centrality(G)\n",
    "    for node, centrality in sorted(degree_centrality.items(), key=lambda item: item[1], reverse=True)[:5]:\n",
    "        print(f\"- {node}: {centrality:.3f}\")\n",
    "    if nx.is_directed(G):\n",
    "        print(\"\\n   → In-Degree Centrality\")\n",
    "        in_degree_centrality = nx.in_degree_centrality(G)\n",
    "        for node, centrality in sorted(in_degree_centrality.items(), key=lambda item: item[1], reverse=True)[:5]:\n",
    "            print(f\"- {node}: {centrality:.3f}\")\n",
    "\n",
    "        print(\"\\n   → Out-Degree Centrality\")\n",
    "        out_degree_centrality = nx.out_degree_centrality(G)\n",
    "        for node, centrality in sorted(out_degree_centrality.items(), key=lambda item: item[1], reverse=True)[:5]:\n",
    "            print(f\"- {node}: {centrality:.3f}\")\n",
    "\n",
    "    print(\"\\n2. Betweenness Centrality (nodes on shortest paths):\")\n",
    "    betweenness_centrality = nx.betweenness_centrality(G)\n",
    "    for node, centrality in sorted(betweenness_centrality.items(), key=lambda item: item[1], reverse=True)[:5]:\n",
    "        print(f\"- {node}: {centrality:.3f}\")\n",
    "\n",
    "    print(\"\\n3. Closeness Centrality (average distance to all others):\")\n",
    "    closeness_centrality = nx.closeness_centrality(G)\n",
    "    for node, centrality in sorted(closeness_centrality.items(), key=lambda item: item[1], reverse=True)[:5]:\n",
    "        print(f\"- {node}: {centrality:.3f}\")\n",
    "\n",
    "    print(\"\\n4. Eigenvector Centrality (nodes on shortest paths):\")"
   ],
   "id": "28fc03dd3e00ade0",
   "outputs": [],
   "execution_count": 10
  }
 ],
 "metadata": {
  "kernelspec": {
   "display_name": "Python 3",
   "language": "python",
   "name": "python3"
  },
  "language_info": {
   "codemirror_mode": {
    "name": "ipython",
    "version": 2
   },
   "file_extension": ".py",
   "mimetype": "text/x-python",
   "name": "python",
   "nbconvert_exporter": "python",
   "pygments_lexer": "ipython2",
   "version": "2.7.6"
  }
 },
 "nbformat": 4,
 "nbformat_minor": 5
}
