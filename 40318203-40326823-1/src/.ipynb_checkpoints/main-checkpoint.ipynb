{
 "cells": [
  {
   "cell_type": "code",
   "execution_count": null,
   "id": "initial_id",
   "metadata": {
    "collapsed": true
   },
   "outputs": [],
   "source": "from graph_util import *"
  },
  {
   "metadata": {},
   "cell_type": "markdown",
   "source": "",
   "id": "88ba3a854c6660cd"
  },
  {
   "metadata": {
    "ExecuteTime": {
     "end_time": "2025-07-31T17:22:09.840530Z",
     "start_time": "2025-07-31T17:22:09.832866Z"
    }
   },
   "cell_type": "code",
   "source": [
    "def main():\n",
    "    while True:\n",
    "        file_path = input(\"Please enter the path to the graph CSV file (or press Enter to use the default): \")\n",
    "        try:\n",
    "            G = build_graph(file_path.strip()) if file_path.strip() else build_graph()\n",
    "            break\n",
    "        except RuntimeError as e:\n",
    "            print(f\"❌ {e}\")\n",
    "            print(\"Please try again.\\n\")\n",
    "\n",
    "    print_menu()"
   ],
   "id": "de47f6a5bfe6c729",
   "outputs": [],
   "execution_count": 2
  }
 ],
 "metadata": {
  "kernelspec": {
   "display_name": "Python 3",
   "language": "python",
   "name": "python3"
  },
  "language_info": {
   "codemirror_mode": {
    "name": "ipython",
    "version": 2
   },
   "file_extension": ".py",
   "mimetype": "text/x-python",
   "name": "python",
   "nbconvert_exporter": "python",
   "pygments_lexer": "ipython2",
   "version": "2.7.6"
  }
 },
 "nbformat": 4,
 "nbformat_minor": 5
}
